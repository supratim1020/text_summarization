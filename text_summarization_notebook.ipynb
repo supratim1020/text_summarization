{
 "cells": [
  {
   "cell_type": "code",
   "execution_count": 1,
   "id": "856ff658-ee3f-4b88-8f76-450199ba0203",
   "metadata": {
    "tags": []
   },
   "outputs": [],
   "source": [
    "import spacy\n",
    "from spacy.lang.en.stop_words import STOP_WORDS\n",
    "from string import punctuation"
   ]
  },
  {
   "cell_type": "code",
   "execution_count": 2,
   "id": "3bcc837f-4343-47cd-a835-57487c6d0364",
   "metadata": {},
   "outputs": [],
   "source": [
    "text = \"\"\"Samsung recently cancelled its in-person MWC 2021 event, instead, committing to an online-only format. The South Korean tech giant recently made it official, setting a time and date for the Samsung Galaxy MWC Virtual Event.\n",
    "\n",
    "The event will be held on June 28 at 17:15 UTC (22:45 IST) and will be live-streamed on YouTube. In its release, Samsung says that it will introduce its “ever-expanding Galaxy device ecosystem”. Samsung also plans to present the latest technologies and innovation efforts in relation to the growing importance of smart device security.\n",
    "\n",
    "Samsung will also showcase its vision for the future of smartwatches to provide new experiences for users and new opportunities for developers. Samsung also shared an image for the event with silhouettes of a smartwatch, a smartphone, a tablet and a laptop.\"\"\""
   ]
  },
  {
   "cell_type": "markdown",
   "id": "b733c0ab-46d0-4b99-82be-f1fb41f6b0b2",
   "metadata": {},
   "source": [
    "- Stop words are the words in a stop list (or stoplist or negative dictionary) which are filtered out (i.e. stopped) before or after processing of natural language data (text) because they are insignificant.\n",
    "\n",
    "- So we have to drop stop_words as well as punctuations"
   ]
  },
  {
   "cell_type": "code",
   "execution_count": 3,
   "id": "a841c592-6181-45fc-9a82-1b191e29a9c0",
   "metadata": {
    "tags": []
   },
   "outputs": [
    {
     "name": "stdout",
     "output_type": "stream",
     "text": [
      "['me', 'out', 'somehow', 'whither', 'five', \"'re\", 'along', 'used', 'whoever', 'twenty', 'they', 'give', 'nowhere', 'sixty', 'same', 'and', 'regarding', 'one', 'it', '‘d', 'some', 'those', 'beyond', 'his', 'after', 'else', 'herein', 'again', 'yourself', 'such', 'anyway', 'my', 'always', 'hereupon', 'something', 'using', 'our', 'whenever', 'also', 'into', 'would', '‘s', 'down', 'never', '’m', 'yet', 'nothing', 'moreover', 'often', 'for', 'somewhere', 'he', 'sometimes', 'yourselves', 'perhaps', 'did', 'someone', \"'m\", 'former', 'ca', 'itself', 'name', 'please', 'have', 'should', 'might', 'can', 'anyone', 'first', 'ours', 'put', 'we', 'n’t', 'otherwise', 'sometime', 'up', 'was', 'before', 'side', 'both', 'thereafter', 'why', 'at', 'further', 'noone', 'rather', 'thence', 'ever', 'or', 'besides', \"'d\", 'latterly', 'say', 'hence', 'therein', '’ll', 'even', 'has', 'once', 'which', 'not', 'herself', 'in', '‘re', 'another', 'indeed', 'became', 'to', 'last', 'more', 'whereby', 'anything', 'without', 'are', 'eight', 'anywhere', 'be', 'take', 'upon', 'thereby', 'whose', 'within', 'own', 'hereafter', 'on', 'less', 'whether', 'much', 'nobody', 'whereupon', 'part', 'other', 'hereby', 'yours', 'by', 'whereafter', 'across', 'though', 'were', 'become', 'any', 'formerly', 'beforehand', 'seeming', 'none', 'too', 'everywhere', 'next', 'whereas', '’ve', 'while', 'three', '’s', 'had', 'twelve', 'two', 'your', 'ourselves', 'latter', 'must', 'do', 'quite', 'no', 'because', 'everyone', 'whole', 'so', 'nine', 'least', 'various', 'however', 'of', '‘ll', 'onto', 'thus', 'am', 'amount', 'forty', '’d', 'empty', 'becoming', 'its', 'her', 'mostly', 'been', 'keep', 'alone', 'therefore', 'a', 'really', 'via', 'all', 'serious', 'already', 'what', 'bottom', 'afterwards', 'over', 'myself', 'elsewhere', \"'ll\", 'show', 'that', 'them', 'meanwhile', 'if', 'then', 'during', 'ten', 'thereupon', 'an', 'from', 'either', 'toward', 'seems', 'anyhow', 'who', 'make', 'amongst', 'together', 'go', 'back', 'still', 'these', 'call', 'i', 'cannot', 'whom', \"'ve\", 'whatever', 'every', 'except', 'only', 'thru', '‘ve', 'becomes', 'the', 'off', 'each', 'around', 'made', 'top', 're', 'wherein', 'nor', '’re', 'will', 'above', 'doing', 'well', 'among', 'several', 'himself', 'between', 'is', 'until', 'behind', 'where', 'done', 'you', 'throughout', 'just', 'seem', 'six', 'their', \"n't\", 'third', 'most', 'about', 'since', 'whence', 'although', 'him', 'full', 'per', 'there', 'everything', 'with', 'how', 'themselves', 'does', 'get', 'now', '‘m', 'hundred', 'wherever', 'than', 'under', 'mine', 'through', 'n‘t', 'beside', 'could', 'but', 'almost', 'many', 'hers', 'see', 'when', 'unless', 'front', \"'s\", 'below', 'others', 'enough', 'due', 'against', 'nevertheless', 'namely', 'few', 'she', 'fifteen', 'us', 'here', 'four', 'eleven', 'move', 'as', 'may', 'this', 'fifty', 'very', 'seemed', 'towards', 'neither', 'being']\n"
     ]
    }
   ],
   "source": [
    "stopwords = list(STOP_WORDS)\n",
    "\n",
    "print(stopwords)"
   ]
  },
  {
   "cell_type": "code",
   "execution_count": 4,
   "id": "c5568606-e0c6-46ca-9f4d-9e7ebed4d35d",
   "metadata": {
    "tags": []
   },
   "outputs": [
    {
     "name": "stdout",
     "output_type": "stream",
     "text": [
      "Samsung recently cancelled its in-person MWC 2021 event, instead, committing to an online-only format. The South Korean tech giant recently made it official, setting a time and date for the Samsung Galaxy MWC Virtual Event.\n",
      "\n",
      "The event will be held on June 28 at 17:15 UTC (22:45 IST) and will be live-streamed on YouTube. In its release, Samsung says that it will introduce its “ever-expanding Galaxy device ecosystem”. Samsung also plans to present the latest technologies and innovation efforts in relation to the growing importance of smart device security.\n",
      "\n",
      "Samsung will also showcase its vision for the future of smartwatches to provide new experiences for users and new opportunities for developers. Samsung also shared an image for the event with silhouettes of a smartwatch, a smartphone, a tablet and a laptop.\n"
     ]
    }
   ],
   "source": [
    "nlp = spacy.load('en_core_web_sm')\n",
    "doc = nlp(text)\n",
    "\n",
    "print(doc)"
   ]
  },
  {
   "cell_type": "markdown",
   "id": "35856ef0-246d-460a-8772-3d7ee2ed7948",
   "metadata": {},
   "source": [
    "- storing each word of 'doc' into list tokens (here we are considering each word as a token)."
   ]
  },
  {
   "cell_type": "code",
   "execution_count": 5,
   "id": "ca7cad75-c2f0-4d58-a2fb-ce6a20a1f931",
   "metadata": {
    "tags": []
   },
   "outputs": [
    {
     "name": "stdout",
     "output_type": "stream",
     "text": [
      "['Samsung', 'recently', 'cancelled', 'its', 'in', '-', 'person', 'MWC', '2021', 'event', ',', 'instead', ',', 'committing', 'to', 'an', 'online', '-', 'only', 'format', '.', 'The', 'South', 'Korean', 'tech', 'giant', 'recently', 'made', 'it', 'official', ',', 'setting', 'a', 'time', 'and', 'date', 'for', 'the', 'Samsung', 'Galaxy', 'MWC', 'Virtual', 'Event', '.', '\\n\\n', 'The', 'event', 'will', 'be', 'held', 'on', 'June', '28', 'at', '17:15', 'UTC', '(', '22:45', 'IST', ')', 'and', 'will', 'be', 'live', '-', 'streamed', 'on', 'YouTube', '.', 'In', 'its', 'release', ',', 'Samsung', 'says', 'that', 'it', 'will', 'introduce', 'its', '“', 'ever', '-', 'expanding', 'Galaxy', 'device', 'ecosystem', '”', '.', 'Samsung', 'also', 'plans', 'to', 'present', 'the', 'latest', 'technologies', 'and', 'innovation', 'efforts', 'in', 'relation', 'to', 'the', 'growing', 'importance', 'of', 'smart', 'device', 'security', '.', '\\n\\n', 'Samsung', 'will', 'also', 'showcase', 'its', 'vision', 'for', 'the', 'future', 'of', 'smartwatches', 'to', 'provide', 'new', 'experiences', 'for', 'users', 'and', 'new', 'opportunities', 'for', 'developers', '.', 'Samsung', 'also', 'shared', 'an', 'image', 'for', 'the', 'event', 'with', 'silhouettes', 'of', 'a', 'smartwatch', ',', 'a', 'smartphone', ',', 'a', 'tablet', 'and', 'a', 'laptop', '.']\n"
     ]
    }
   ],
   "source": [
    "tokens = [token.text for token in doc]\n",
    "\n",
    "print(tokens)"
   ]
  },
  {
   "cell_type": "markdown",
   "id": "9cb90ccc-f8a5-4bf7-9208-9491feb692c6",
   "metadata": {},
   "source": [
    "- Creating a dictionary of word frequency"
   ]
  },
  {
   "cell_type": "code",
   "execution_count": 6,
   "id": "5fa11ea4-aad8-4774-a9e0-27707a5b85a6",
   "metadata": {
    "tags": []
   },
   "outputs": [
    {
     "name": "stdout",
     "output_type": "stream",
     "text": [
      "{'Samsung': 6, 'recently': 2, 'cancelled': 1, 'person': 1, 'MWC': 2, '2021': 1, 'event': 3, 'instead': 1, 'committing': 1, 'online': 1, 'format': 1, 'South': 1, 'Korean': 1, 'tech': 1, 'giant': 1, 'official': 1, 'setting': 1, 'time': 1, 'date': 1, 'Galaxy': 2, 'Virtual': 1, 'Event': 1, '\\n\\n': 2, 'held': 1, 'June': 1, '28': 1, '17:15': 1, 'UTC': 1, '22:45': 1, 'IST': 1, 'live': 1, 'streamed': 1, 'YouTube': 1, 'release': 1, 'says': 1, 'introduce': 1, '“': 1, 'expanding': 1, 'device': 2, 'ecosystem': 1, '”': 1, 'plans': 1, 'present': 1, 'latest': 1, 'technologies': 1, 'innovation': 1, 'efforts': 1, 'relation': 1, 'growing': 1, 'importance': 1, 'smart': 1, 'security': 1, 'showcase': 1, 'vision': 1, 'future': 1, 'smartwatches': 1, 'provide': 1, 'new': 2, 'experiences': 1, 'users': 1, 'opportunities': 1, 'developers': 1, 'shared': 1, 'image': 1, 'silhouettes': 1, 'smartwatch': 1, 'smartphone': 1, 'tablet': 1, 'laptop': 1}\n"
     ]
    }
   ],
   "source": [
    "word_freq = {}\n",
    "for word in doc:\n",
    "    # picking those words which aren't stopwords and punctuations\n",
    "    if word.text.lower() not in stopwords and word.text.lower() not in punctuation:\n",
    "        if word.text not in word_freq.keys():\n",
    "            word_freq[word.text] = 1\n",
    "        else:\n",
    "            word_freq[word.text] += 1\n",
    "            \n",
    "print(word_freq)"
   ]
  },
  {
   "cell_type": "markdown",
   "id": "f1f74db5-d556-4e1a-be16-d645c129c8a7",
   "metadata": {},
   "source": [
    "- Extracting the word which have highest frequency"
   ]
  },
  {
   "cell_type": "code",
   "execution_count": 7,
   "id": "d63259e8-9514-4283-bc0a-c05d35b424d5",
   "metadata": {
    "tags": []
   },
   "outputs": [
    {
     "name": "stdout",
     "output_type": "stream",
     "text": [
      "6\n"
     ]
    }
   ],
   "source": [
    "max_freq = max(word_freq.values())\n",
    "\n",
    "print(max_freq)"
   ]
  },
  {
   "cell_type": "markdown",
   "id": "622d6356-27f6-4341-82af-a5dc4b22bf47",
   "metadata": {},
   "source": [
    "- Evaluating Normalized frequency (i.e., `current_word_frequency / maximum_frequency`)"
   ]
  },
  {
   "cell_type": "code",
   "execution_count": 8,
   "id": "e781d506-0273-41c0-9586-efbf25e0c764",
   "metadata": {
    "tags": []
   },
   "outputs": [
    {
     "name": "stdout",
     "output_type": "stream",
     "text": [
      "{'Samsung': 1.0, 'recently': 0.3333333333333333, 'cancelled': 0.16666666666666666, 'person': 0.16666666666666666, 'MWC': 0.3333333333333333, '2021': 0.16666666666666666, 'event': 0.5, 'instead': 0.16666666666666666, 'committing': 0.16666666666666666, 'online': 0.16666666666666666, 'format': 0.16666666666666666, 'South': 0.16666666666666666, 'Korean': 0.16666666666666666, 'tech': 0.16666666666666666, 'giant': 0.16666666666666666, 'official': 0.16666666666666666, 'setting': 0.16666666666666666, 'time': 0.16666666666666666, 'date': 0.16666666666666666, 'Galaxy': 0.3333333333333333, 'Virtual': 0.16666666666666666, 'Event': 0.16666666666666666, '\\n\\n': 0.3333333333333333, 'held': 0.16666666666666666, 'June': 0.16666666666666666, '28': 0.16666666666666666, '17:15': 0.16666666666666666, 'UTC': 0.16666666666666666, '22:45': 0.16666666666666666, 'IST': 0.16666666666666666, 'live': 0.16666666666666666, 'streamed': 0.16666666666666666, 'YouTube': 0.16666666666666666, 'release': 0.16666666666666666, 'says': 0.16666666666666666, 'introduce': 0.16666666666666666, '“': 0.16666666666666666, 'expanding': 0.16666666666666666, 'device': 0.3333333333333333, 'ecosystem': 0.16666666666666666, '”': 0.16666666666666666, 'plans': 0.16666666666666666, 'present': 0.16666666666666666, 'latest': 0.16666666666666666, 'technologies': 0.16666666666666666, 'innovation': 0.16666666666666666, 'efforts': 0.16666666666666666, 'relation': 0.16666666666666666, 'growing': 0.16666666666666666, 'importance': 0.16666666666666666, 'smart': 0.16666666666666666, 'security': 0.16666666666666666, 'showcase': 0.16666666666666666, 'vision': 0.16666666666666666, 'future': 0.16666666666666666, 'smartwatches': 0.16666666666666666, 'provide': 0.16666666666666666, 'new': 0.3333333333333333, 'experiences': 0.16666666666666666, 'users': 0.16666666666666666, 'opportunities': 0.16666666666666666, 'developers': 0.16666666666666666, 'shared': 0.16666666666666666, 'image': 0.16666666666666666, 'silhouettes': 0.16666666666666666, 'smartwatch': 0.16666666666666666, 'smartphone': 0.16666666666666666, 'tablet': 0.16666666666666666, 'laptop': 0.16666666666666666}\n"
     ]
    }
   ],
   "source": [
    "for word in word_freq.keys():\n",
    "    word_freq[word] = word_freq[word]/max_freq\n",
    "    \n",
    "print(word_freq)"
   ]
  },
  {
   "cell_type": "markdown",
   "id": "3ade074c-8201-4604-8890-6ef91ec3955b",
   "metadata": {},
   "source": [
    "- Storing sentence tokens in list"
   ]
  },
  {
   "cell_type": "code",
   "execution_count": 9,
   "id": "6a3d1945-3e3a-4c88-be56-d135c4c41d1a",
   "metadata": {
    "tags": []
   },
   "outputs": [
    {
     "name": "stdout",
     "output_type": "stream",
     "text": [
      "[Samsung recently cancelled its in-person MWC 2021 event, instead, committing to an online-only format., The South Korean tech giant recently made it official, setting a time and date for the Samsung Galaxy MWC Virtual Event.\n",
      "\n",
      ", The event will be held on June 28 at 17:15 UTC (22:45 IST) and will be live-streamed on YouTube., In its release, Samsung says that it will introduce its “ever-expanding Galaxy device ecosystem”., Samsung also plans to present the latest technologies and innovation efforts in relation to the growing importance of smart device security.\n",
      "\n",
      ", Samsung will also showcase its vision for the future of smartwatches to provide new experiences for users and new opportunities for developers., Samsung also shared an image for the event with silhouettes of a smartwatch, a smartphone, a tablet and a laptop.]\n"
     ]
    }
   ],
   "source": [
    "sent_tokens=[sent for sent in doc.sents]\n",
    "\n",
    "print(sent_tokens)"
   ]
  },
  {
   "cell_type": "markdown",
   "id": "a0c1b4a7-7edd-4074-9268-178e866e6180",
   "metadata": {},
   "source": [
    "- Addition of normalized fequency of each word of a sentence"
   ]
  },
  {
   "cell_type": "code",
   "execution_count": 10,
   "id": "230badee-3127-47ae-9d6a-8ab4bfe8fada",
   "metadata": {
    "tags": []
   },
   "outputs": [
    {
     "name": "stdout",
     "output_type": "stream",
     "text": [
      "{Samsung recently cancelled its in-person MWC 2021 event, instead, committing to an online-only format.: 3.3333333333333326, The South Korean tech giant recently made it official, setting a time and date for the Samsung Galaxy MWC Virtual Event.\n",
      "\n",
      ": 4.0, The event will be held on June 28 at 17:15 UTC (22:45 IST) and will be live-streamed on YouTube.: 2.1666666666666665, In its release, Samsung says that it will introduce its “ever-expanding Galaxy device ecosystem”.: 2.8333333333333335, Samsung also plans to present the latest technologies and innovation efforts in relation to the growing importance of smart device security.\n",
      "\n",
      ": 3.5, Samsung will also showcase its vision for the future of smartwatches to provide new experiences for users and new opportunities for developers.: 3.1666666666666665, Samsung also shared an image for the event with silhouettes of a smartwatch, a smartphone, a tablet and a laptop.: 2.666666666666666}\n"
     ]
    }
   ],
   "source": [
    "sent_scores={}\n",
    "for sent in sent_tokens:\n",
    "    for word in sent:\n",
    "        if word.text in word_freq.keys():\n",
    "            if sent not in sent_scores.keys():\n",
    "                sent_scores[sent]=word_freq[word.text]\n",
    "            else:\n",
    "                sent_scores[sent]+=word_freq[word.text]\n",
    "                \n",
    "print(sent_scores)"
   ]
  },
  {
   "cell_type": "markdown",
   "id": "10d9b9b7-8fe6-409f-a892-bf6e947fab2a",
   "metadata": {},
   "source": [
    "- Length of summary = 30% of actual paragraph"
   ]
  },
  {
   "cell_type": "code",
   "execution_count": 11,
   "id": "7866f112-24be-457b-8397-ab832431c0b3",
   "metadata": {
    "tags": []
   },
   "outputs": [
    {
     "name": "stdout",
     "output_type": "stream",
     "text": [
      "2\n"
     ]
    }
   ],
   "source": [
    "select_len=int(len(sent_tokens)*0.3)\n",
    "\n",
    "print(select_len)"
   ]
  },
  {
   "cell_type": "markdown",
   "id": "16e27e53-17b5-4547-8d80-cb9dddc89f91",
   "metadata": {},
   "source": [
    "- Preparing Summary.\n",
    "- Takes those sentences(i.e., 'select_len' no of sentences) which have highest accuracy score"
   ]
  },
  {
   "cell_type": "code",
   "execution_count": 12,
   "id": "bdf96128-4ee1-405b-8923-e55a155cb5ad",
   "metadata": {
    "tags": []
   },
   "outputs": [
    {
     "name": "stdout",
     "output_type": "stream",
     "text": [
      "[The South Korean tech giant recently made it official, setting a time and date for the Samsung Galaxy MWC Virtual Event.\n",
      "\n",
      ", Samsung also plans to present the latest technologies and innovation efforts in relation to the growing importance of smart device security.\n",
      "\n",
      "]\n"
     ]
    }
   ],
   "source": [
    "from heapq import nlargest\n",
    "\n",
    "summary=nlargest(select_len,sent_scores,key=sent_scores.get)\n",
    "\n",
    "print(summary)"
   ]
  },
  {
   "cell_type": "markdown",
   "id": "9fcd72c7-1d60-45bc-bf32-a0151c0b2592",
   "metadata": {},
   "source": [
    "- Final summary(joining sentences from `summary` list)"
   ]
  },
  {
   "cell_type": "code",
   "execution_count": 13,
   "id": "52a75513-5b98-4f3b-9a52-b4992f989ed2",
   "metadata": {
    "tags": []
   },
   "outputs": [
    {
     "name": "stdout",
     "output_type": "stream",
     "text": [
      "The South Korean tech giant recently made it official, setting a time and date for the Samsung Galaxy MWC Virtual Event.\n",
      "\n",
      " Samsung also plans to present the latest technologies and innovation efforts in relation to the growing importance of smart device security.\n",
      "\n",
      "\n"
     ]
    }
   ],
   "source": [
    "final_summary=[word.text for word in summary]\n",
    "summary=' '.join(final_summary)\n",
    "\n",
    "print(summary)"
   ]
  },
  {
   "cell_type": "code",
   "execution_count": 14,
   "id": "05d1d4cd-a7c3-4bcd-a4c2-9b05eac730f8",
   "metadata": {},
   "outputs": [
    {
     "name": "stdout",
     "output_type": "stream",
     "text": [
      "Samsung recently cancelled its in-person MWC 2021 event, instead, committing to an online-only format. The South Korean tech giant recently made it official, setting a time and date for the Samsung Galaxy MWC Virtual Event.\n",
      "\n",
      "The event will be held on June 28 at 17:15 UTC (22:45 IST) and will be live-streamed on YouTube. In its release, Samsung says that it will introduce its “ever-expanding Galaxy device ecosystem”. Samsung also plans to present the latest technologies and innovation efforts in relation to the growing importance of smart device security.\n",
      "\n",
      "Samsung will also showcase its vision for the future of smartwatches to provide new experiences for users and new opportunities for developers. Samsung also shared an image for the event with silhouettes of a smartwatch, a smartphone, a tablet and a laptop.\n"
     ]
    }
   ],
   "source": [
    "print(text)"
   ]
  },
  {
   "cell_type": "code",
   "execution_count": 15,
   "id": "fff3ee46-d70e-4a73-b527-572318919f6a",
   "metadata": {},
   "outputs": [
    {
     "name": "stdout",
     "output_type": "stream",
     "text": [
      "Length of original text:  129\n",
      "Length of summary text:  42\n"
     ]
    }
   ],
   "source": [
    "print(\"Length of original text: \",len(text.split(' ')))\n",
    "print(\"Length of summary text: \",len(summary.split(' ')))"
   ]
  },
  {
   "cell_type": "code",
   "execution_count": null,
   "id": "14c9f07d-78b4-49ae-9a71-192b0ddb88a4",
   "metadata": {},
   "outputs": [],
   "source": []
  }
 ],
 "metadata": {
  "kernelspec": {
   "display_name": "Python 3 (ipykernel)",
   "language": "python",
   "name": "python3"
  },
  "language_info": {
   "codemirror_mode": {
    "name": "ipython",
    "version": 3
   },
   "file_extension": ".py",
   "mimetype": "text/x-python",
   "name": "python",
   "nbconvert_exporter": "python",
   "pygments_lexer": "ipython3",
   "version": "3.11.5"
  }
 },
 "nbformat": 4,
 "nbformat_minor": 5
}
